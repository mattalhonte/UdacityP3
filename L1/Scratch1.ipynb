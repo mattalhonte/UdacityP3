{
 "cells": [
  {
   "cell_type": "code",
   "execution_count": 1,
   "metadata": {
    "collapsed": true
   },
   "outputs": [],
   "source": [
    "import os\n",
    "\n",
    "DATADIR = \"\"\n",
    "DATAFILE = \"beatles-diskography.csv\""
   ]
  },
  {
   "cell_type": "code",
   "execution_count": 5,
   "metadata": {
    "collapsed": false
   },
   "outputs": [
    {
     "ename": "SyntaxError",
     "evalue": "invalid syntax (<ipython-input-5-8ff104b7535e>, line 6)",
     "output_type": "error",
     "traceback": [
      "\u001b[1;36m  File \u001b[1;32m\"<ipython-input-5-8ff104b7535e>\"\u001b[1;36m, line \u001b[1;32m6\u001b[0m\n\u001b[1;33m    data.append(print line)\u001b[0m\n\u001b[1;37m                    ^\u001b[0m\n\u001b[1;31mSyntaxError\u001b[0m\u001b[1;31m:\u001b[0m invalid syntax\n"
     ]
    }
   ],
   "source": [
    "def parse_file(datafile):\n",
    "    with open(datafile, \"r\") as f:\n",
    "        data = f.read()\n",
    "            \n",
    "    return data\n"
   ]
  },
  {
   "cell_type": "code",
   "execution_count": 10,
   "metadata": {
    "collapsed": false
   },
   "outputs": [],
   "source": [
    "with open(DATAFILE, \"r\") as f:\n",
    "    myFile = f.read()\n",
    "    \n",
    "myEntries = [myEntry.split(\",\") for myEntry in myFile.split(\"\\n\")]"
   ]
  },
  {
   "cell_type": "code",
   "execution_count": 12,
   "metadata": {
    "collapsed": false
   },
   "outputs": [],
   "source": [
    "myZips = [zip(myEntries[0], myList) for myList in myEntries[1:]]"
   ]
  },
  {
   "cell_type": "code",
   "execution_count": 14,
   "metadata": {
    "collapsed": false
   },
   "outputs": [],
   "source": [
    "myDicts = [dict(myZip) for myZip in myZips]"
   ]
  },
  {
   "cell_type": "code",
   "execution_count": 16,
   "metadata": {
    "collapsed": false
   },
   "outputs": [
    {
     "data": {
      "text/plain": [
       "[{'BPI Certification': 'Gold',\n",
       "  'Label': 'Parlophone(UK)',\n",
       "  'RIAA Certification': 'Platinum',\n",
       "  'Released': '22 March 1963',\n",
       "  'Title': 'Please Please Me',\n",
       "  'UK Chart Position': '1',\n",
       "  'US Chart Position': '-'},\n",
       " {'BPI Certification': 'Platinum',\n",
       "  'Label': 'Parlophone(UK)',\n",
       "  'RIAA Certification': 'Gold',\n",
       "  'Released': '22 November 1963',\n",
       "  'Title': 'With the Beatles',\n",
       "  'UK Chart Position': '1',\n",
       "  'US Chart Position': '-'},\n",
       " {'BPI Certification': '',\n",
       "  'Label': 'Capitol(CAN)',\n",
       "  'RIAA Certification': '',\n",
       "  'Released': '25 November 1963',\n",
       "  'Title': 'Beatlemania! With the Beatles',\n",
       "  'UK Chart Position': '-',\n",
       "  'US Chart Position': '-'},\n",
       " {'BPI Certification': '',\n",
       "  'Label': 'Vee-Jay(US)',\n",
       "  'RIAA Certification': '',\n",
       "  'Released': '10 January 1964',\n",
       "  'Title': 'Introducing... The Beatles',\n",
       "  'UK Chart Position': '-',\n",
       "  'US Chart Position': '2'},\n",
       " {'BPI Certification': '',\n",
       "  'Label': 'Capitol(US)',\n",
       "  'RIAA Certification': '5xPlatinum',\n",
       "  'Released': '20 January 1964',\n",
       "  'Title': 'Meet the Beatles!',\n",
       "  'UK Chart Position': '-',\n",
       "  'US Chart Position': '1'},\n",
       " {'BPI Certification': '',\n",
       "  'Label': 'Capitol(CAN)',\n",
       "  'RIAA Certification': '',\n",
       "  'Released': '3 February 1964',\n",
       "  'Title': 'Twist and Shout',\n",
       "  'UK Chart Position': '-',\n",
       "  'US Chart Position': '-'},\n",
       " {'BPI Certification': '',\n",
       "  'Label': 'Capitol(US)',\n",
       "  'RIAA Certification': '2xPlatinum',\n",
       "  'Released': '10 April 1964',\n",
       "  'Title': \"The Beatles' Second Album\",\n",
       "  'UK Chart Position': '-',\n",
       "  'US Chart Position': '1'},\n",
       " {'BPI Certification': '',\n",
       "  'Label': 'Capitol(CAN)',\n",
       "  'RIAA Certification': '',\n",
       "  'Released': '11 May 1964',\n",
       "  'Title': \"The Beatles' Long Tall Sally\",\n",
       "  'UK Chart Position': '-',\n",
       "  'US Chart Position': '-'},\n",
       " {'BPI Certification': '',\n",
       "  'Label': 'United Artists(US)[C]',\n",
       "  'RIAA Certification': '4xPlatinum',\n",
       "  'Released': '26 June 1964',\n",
       "  'Title': \"A Hard Day's Night\",\n",
       "  'UK Chart Position': '-',\n",
       "  'US Chart Position': '1'},\n",
       " {'BPI Certification': 'Gold',\n",
       "  'Label': 'Parlophone(UK)',\n",
       "  'RIAA Certification': '',\n",
       "  'Released': '10 July 1964',\n",
       "  'Title': '',\n",
       "  'UK Chart Position': '1',\n",
       "  'US Chart Position': '-'},\n",
       " {'BPI Certification': '',\n",
       "  'Label': 'Capitol(US)',\n",
       "  'RIAA Certification': 'Platinum',\n",
       "  'Released': '20 July 1964',\n",
       "  'Title': 'Something New',\n",
       "  'UK Chart Position': '-',\n",
       "  'US Chart Position': '2'},\n",
       " {'BPI Certification': 'Gold',\n",
       "  'Label': 'Parlophone(UK)',\n",
       "  'RIAA Certification': 'Platinum',\n",
       "  'Released': '4 December 1964',\n",
       "  'Title': 'Beatles for Sale',\n",
       "  'UK Chart Position': '1',\n",
       "  'US Chart Position': '-'},\n",
       " {'BPI Certification': '',\n",
       "  'Label': 'Capitol(US)',\n",
       "  'RIAA Certification': '3xPlatinum',\n",
       "  'Released': '15 December 1964',\n",
       "  'Title': \"Beatles '65\",\n",
       "  'UK Chart Position': '-',\n",
       "  'US Chart Position': '1'},\n",
       " {'BPI Certification': '1',\n",
       "  'Label': '\"Parlophone(NZ)',\n",
       "  'RIAA Certification': '',\n",
       "  'Released': '14 June 1965',\n",
       "  'Title': 'Beatles VI',\n",
       "  'UK Chart Position': ' Capitol(US)\"',\n",
       "  'US Chart Position': '-'},\n",
       " {'BPI Certification': 'Platinum',\n",
       "  'Label': 'Parlophone(UK)',\n",
       "  'RIAA Certification': '',\n",
       "  'Released': '6 August 1965',\n",
       "  'Title': 'Help!',\n",
       "  'UK Chart Position': '1',\n",
       "  'US Chart Position': '-'},\n",
       " {'BPI Certification': '',\n",
       "  'Label': 'Capitol(US)[C]',\n",
       "  'RIAA Certification': '3xPlatinum',\n",
       "  'Released': '13 August 1965',\n",
       "  'Title': '',\n",
       "  'UK Chart Position': '-',\n",
       "  'US Chart Position': '1'},\n",
       " {'BPI Certification': 'Platinum',\n",
       "  'Label': 'Parlophone(UK)',\n",
       "  'RIAA Certification': '',\n",
       "  'Released': '3 December 1965',\n",
       "  'Title': 'Rubber Soul',\n",
       "  'UK Chart Position': '1',\n",
       "  'US Chart Position': '-'},\n",
       " {'BPI Certification': '',\n",
       "  'Label': 'Capitol(US)[C]',\n",
       "  'RIAA Certification': '6xPlatinum',\n",
       "  'Released': '6 December 1965',\n",
       "  'Title': '',\n",
       "  'UK Chart Position': '-',\n",
       "  'US Chart Position': '1'},\n",
       " {'BPI Certification': '',\n",
       "  'Label': 'Capitol(US)',\n",
       "  'RIAA Certification': '2xPlatinum',\n",
       "  'Released': '15 June 1966',\n",
       "  'Title': 'Yesterday and Today',\n",
       "  'UK Chart Position': '-',\n",
       "  'US Chart Position': '1'},\n",
       " {'BPI Certification': 'Platinum',\n",
       "  'Label': 'Parlophone(UK)',\n",
       "  'RIAA Certification': '',\n",
       "  'Released': '5 August 1966',\n",
       "  'Title': 'Revolver',\n",
       "  'UK Chart Position': '1',\n",
       "  'US Chart Position': '-'},\n",
       " {'BPI Certification': '',\n",
       "  'Label': 'Capitol(US)[C]',\n",
       "  'RIAA Certification': '5xPlatinum',\n",
       "  'Released': '8 August 1966',\n",
       "  'Title': '',\n",
       "  'UK Chart Position': '-',\n",
       "  'US Chart Position': '1'},\n",
       " {'BPI Certification': '1',\n",
       "  'Label': '\"Parlophone(UK)',\n",
       "  'RIAA Certification': '3xPlatinum',\n",
       "  'Released': '1 June 1967',\n",
       "  'Title': \"Sgt. Pepper's Lonely Hearts Club Band\",\n",
       "  'UK Chart Position': ' Capitol(US)\"',\n",
       "  'US Chart Position': '1'},\n",
       " {'BPI Certification': '1',\n",
       "  'Label': '\"Parlophone(UK)',\n",
       "  'RIAA Certification': 'Platinum',\n",
       "  'Released': '27 November 1967',\n",
       "  'Title': 'Magical Mystery Tour',\n",
       "  'UK Chart Position': ' Capitol(US)\"',\n",
       "  'US Chart Position': '31[D]'},\n",
       " {'BPI Certification': '1',\n",
       "  'Label': '\"Apple(UK)',\n",
       "  'RIAA Certification': 'Platinum',\n",
       "  'Released': '22 November 1968',\n",
       "  'Title': 'The Beatles',\n",
       "  'UK Chart Position': ' Capitol(US)\"',\n",
       "  'US Chart Position': '1'},\n",
       " {'BPI Certification': '2',\n",
       "  'Label': '\"Apple(UK)',\n",
       "  'RIAA Certification': 'Silver',\n",
       "  'Released': '13 January 1969',\n",
       "  'Title': 'Yellow Submarine',\n",
       "  'UK Chart Position': ' Capitol(US)\"',\n",
       "  'US Chart Position': '3'},\n",
       " {'BPI Certification': '1',\n",
       "  'Label': '\"Apple(UK)',\n",
       "  'RIAA Certification': '2xPlatinum',\n",
       "  'Released': '26 September 1969',\n",
       "  'Title': 'Abbey Road',\n",
       "  'UK Chart Position': ' Capitol(US)\"',\n",
       "  'US Chart Position': '1'},\n",
       " {'BPI Certification': '1',\n",
       "  'Label': '\"Apple(UK)',\n",
       "  'RIAA Certification': 'Gold',\n",
       "  'Released': '8 May 1970',\n",
       "  'Title': 'Let It Be',\n",
       "  'UK Chart Position': 'United Artists(US)\"',\n",
       "  'US Chart Position': '1'},\n",
       " {'Title': ''}]"
      ]
     },
     "execution_count": 16,
     "metadata": {},
     "output_type": "execute_result"
    }
   ],
   "source": [
    "[dict(zip(myEntries[0], myList)) for myList in myEntries[1:]]"
   ]
  },
  {
   "cell_type": "code",
   "execution_count": null,
   "metadata": {
    "collapsed": true
   },
   "outputs": [],
   "source": [
    "def parse_file(datafile):\n",
    "    with open(datafile, \"r\") as f:\n",
    "        myFile = f.read()\n",
    "        \n",
    "    myEntries = [myEntry.split(\",\") for myEntry in myFile.split(\"\\n\")]\n",
    "    myDicts = [dict(zip(myEntries[0], myList)) for myList in myEntries[1:]]\n",
    "            \n",
    "    return data"
   ]
  }
 ],
 "metadata": {
  "kernelspec": {
   "display_name": "Python 2 (udacityData)",
   "language": "python",
   "name": "udacitydata"
  },
  "language_info": {
   "codemirror_mode": {
    "name": "ipython",
    "version": 2
   },
   "file_extension": ".py",
   "mimetype": "text/x-python",
   "name": "python",
   "nbconvert_exporter": "python",
   "pygments_lexer": "ipython2",
   "version": "2.7.11"
  }
 },
 "nbformat": 4,
 "nbformat_minor": 0
}
