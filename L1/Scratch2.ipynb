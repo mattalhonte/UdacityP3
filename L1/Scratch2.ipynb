{
 "cells": [
  {
   "cell_type": "code",
   "execution_count": 1,
   "metadata": {
    "collapsed": true
   },
   "outputs": [],
   "source": [
    "import xlrd\n",
    "from zipfile import ZipFile"
   ]
  },
  {
   "cell_type": "code",
   "execution_count": 2,
   "metadata": {
    "collapsed": true
   },
   "outputs": [],
   "source": [
    "datafile = \"2013_ERCOT_Hourly_Load_Data.xls\""
   ]
  },
  {
   "cell_type": "code",
   "execution_count": 29,
   "metadata": {
    "collapsed": false
   },
   "outputs": [],
   "source": [
    "myWorkbook = xlrd.open_workbook(datafile)\n",
    "mySheet = myWorkbook.sheet_by_index(0)\n",
    "myData = [[mySheet.cell_value(r, col) \n",
    "                for col in range(mySheet.ncols)] \n",
    "                    for r in range(mySheet.nrows)]\n",
    "\n",
    "coastVals = [myEntry[1] for myEntry in myData[1:]]\n",
    "\n",
    "\n",
    "maxVal = max(coastVals)\n",
    "maxHour = [myEntry[0] for myEntry in myData if myEntry[1]==max(coastVals)]\n",
    "\n",
    "minVal = min(coastVals)\n",
    "minHour = [myEntry[0] for myEntry in myData if myEntry[1]==min(coastVals)]\n",
    "\n",
    "myMean = sum(coastVals)/len(coastVals)\n",
    "\n",
    "formattedMinHour = xlrd.xldate_as_tuple(minHour[0], 0)\n",
    "\n",
    "formattedMaxHour = xlrd.xldate_as_tuple(maxHour[0], 0)\n",
    "\n"
   ]
  },
  {
   "cell_type": "code",
   "execution_count": 4,
   "metadata": {
    "collapsed": false
   },
   "outputs": [
    {
     "data": {
      "text/plain": [
       "xlrd.book.Book"
      ]
     },
     "execution_count": 4,
     "metadata": {},
     "output_type": "execute_result"
    }
   ],
   "source": [
    "type(myWorkbook)"
   ]
  },
  {
   "cell_type": "code",
   "execution_count": 5,
   "metadata": {
    "collapsed": false
   },
   "outputs": [
    {
     "data": {
      "text/plain": [
       "xlrd.sheet.Sheet"
      ]
     },
     "execution_count": 5,
     "metadata": {},
     "output_type": "execute_result"
    }
   ],
   "source": [
    "type(mySheet)"
   ]
  },
  {
   "cell_type": "code",
   "execution_count": 28,
   "metadata": {
    "collapsed": false
   },
   "outputs": [],
   "source": [
    "coastVals = [myEntry[1] for myEntry in myData[1:]]"
   ]
  },
  {
   "cell_type": "code",
   "execution_count": 8,
   "metadata": {
    "collapsed": false
   },
   "outputs": [
    {
     "data": {
      "text/plain": [
       "[u'Hour_End',\n",
       " u'COAST',\n",
       " u'EAST',\n",
       " u'FAR_WEST',\n",
       " u'NORTH',\n",
       " u'NORTH_C',\n",
       " u'SOUTHERN',\n",
       " u'SOUTH_C',\n",
       " u'WEST',\n",
       " u'ERCOT']"
      ]
     },
     "execution_count": 8,
     "metadata": {},
     "output_type": "execute_result"
    }
   ],
   "source": [
    "myData[0]"
   ]
  },
  {
   "cell_type": "code",
   "execution_count": 23,
   "metadata": {
    "collapsed": false
   },
   "outputs": [],
   "source": [
    "coastVals = [myEntry[1] for myEntry in myData[1:]]"
   ]
  },
  {
   "cell_type": "code",
   "execution_count": 25,
   "metadata": {
    "collapsed": false
   },
   "outputs": [],
   "source": [
    "#coastVals"
   ]
  },
  {
   "cell_type": "code",
   "execution_count": 16,
   "metadata": {
    "collapsed": false
   },
   "outputs": [
    {
     "data": {
      "text/plain": [
       "18779.025510000003"
      ]
     },
     "execution_count": 16,
     "metadata": {},
     "output_type": "execute_result"
    }
   ],
   "source": [
    "max(coastVals)"
   ]
  },
  {
   "cell_type": "code",
   "execution_count": 18,
   "metadata": {
    "collapsed": false
   },
   "outputs": [],
   "source": [
    "myHour = [myEntry[0] for myEntry in myData if myEntry[1]==max(coastVals) ]"
   ]
  },
  {
   "cell_type": "code",
   "execution_count": 19,
   "metadata": {
    "collapsed": false
   },
   "outputs": [
    {
     "data": {
      "text/plain": [
       "[41499.708333333336]"
      ]
     },
     "execution_count": 19,
     "metadata": {},
     "output_type": "execute_result"
    }
   ],
   "source": [
    "myHour"
   ]
  },
  {
   "cell_type": "code",
   "execution_count": 21,
   "metadata": {
    "collapsed": false
   },
   "outputs": [
    {
     "data": {
      "text/plain": [
       "(2013, 8, 13, 17, 0, 0)"
      ]
     },
     "execution_count": 21,
     "metadata": {},
     "output_type": "execute_result"
    }
   ],
   "source": [
    "xlrd.xldate_as_tuple(myHour[0], 0)"
   ]
  },
  {
   "cell_type": "code",
   "execution_count": 31,
   "metadata": {
    "collapsed": false
   },
   "outputs": [
    {
     "data": {
      "text/plain": [
       "(2013, 2, 3, 4, 0, 0)"
      ]
     },
     "execution_count": 31,
     "metadata": {},
     "output_type": "execute_result"
    }
   ],
   "source": [
    "minVal = min(coastVals)\n",
    "minHour = [myEntry[0] for myEntry in myData if myEntry[1]==min(coastVals)]\n",
    "formattedMinHour = xlrd.xldate_as_tuple(minHour[0], 0)\n",
    "\n",
    "formattedMaxHour"
   ]
  },
  {
   "cell_type": "code",
   "execution_count": 34,
   "metadata": {
    "collapsed": false
   },
   "outputs": [],
   "source": [
    "myMean = sum(coastVals)/len(coastVals)"
   ]
  },
  {
   "cell_type": "code",
   "execution_count": 35,
   "metadata": {
    "collapsed": false
   },
   "outputs": [
    {
     "data": {
      "text/plain": [
       "10976.933460679751"
      ]
     },
     "execution_count": 35,
     "metadata": {},
     "output_type": "execute_result"
    }
   ],
   "source": [
    "myMean"
   ]
  },
  {
   "cell_type": "code",
   "execution_count": 40,
   "metadata": {
    "collapsed": true
   },
   "outputs": [],
   "source": [
    "data = {\n",
    "            'maxtime': xlrd.xldate_as_tuple(maxHour[0], 0),\n",
    "            'maxvalue': maxVal,\n",
    "            'mintime': xlrd.xldate_as_tuple(minHour[0], 0),\n",
    "            'minvalue': minVal,\n",
    "            'avgcoast': sum(coastVals)/len(coastVals)\n",
    "    }"
   ]
  },
  {
   "cell_type": "code",
   "execution_count": 38,
   "metadata": {
    "collapsed": false
   },
   "outputs": [
    {
     "data": {
      "text/plain": [
       "['mintime', 'maxtime', 'avgcoast', 'maxvalue', 'minvalue']"
      ]
     },
     "execution_count": 38,
     "metadata": {},
     "output_type": "execute_result"
    }
   ],
   "source": [
    "data.keys()"
   ]
  },
  {
   "cell_type": "code",
   "execution_count": 39,
   "metadata": {
    "collapsed": true
   },
   "outputs": [],
   "source": [
    "import pprint"
   ]
  },
  {
   "cell_type": "code",
   "execution_count": 41,
   "metadata": {
    "collapsed": false
   },
   "outputs": [
    {
     "name": "stdout",
     "output_type": "stream",
     "text": [
      "{'avgcoast': 10976.933460679751,\n",
      " 'maxtime': (2013, 8, 13, 17, 0, 0),\n",
      " 'maxvalue': 18779.025510000003,\n",
      " 'mintime': (2013, 2, 3, 4, 0, 0),\n",
      " 'minvalue': 6602.113898999982}\n"
     ]
    }
   ],
   "source": [
    "pprint.pprint(data)"
   ]
  },
  {
   "cell_type": "code",
   "execution_count": 42,
   "metadata": {
    "collapsed": true
   },
   "outputs": [],
   "source": [
    "import json\n",
    "import requests"
   ]
  },
  {
   "cell_type": "code",
   "execution_count": null,
   "metadata": {
    "collapsed": true
   },
   "outputs": [],
   "source": [
    "#OFFICIAL\n",
    "\n",
    "cv = sheet.col_values(1, start_rowx=1, end_rowx=None)\n",
    "\n",
    "maxval = max(cv)\n",
    "minval = min(cv)\n",
    "\n",
    "maxpos = cv.index(maxval) + 1\n",
    "minpos = cv.index(minval) + 1\n",
    "\n",
    "maxtime = sheet.cell_value(maxpos, 0)\n",
    "realtime = xlrd.xldate_as_tuple(maxtime, 0)\n",
    "mintime = sheet.cell_value(minpos, 0)\n",
    "realmintime = xlrd_xldate_as_tuple(mintime, 0)"
   ]
  }
 ],
 "metadata": {
  "kernelspec": {
   "display_name": "Python 2 (udacityData)",
   "language": "python",
   "name": "udacitydata"
  },
  "language_info": {
   "codemirror_mode": {
    "name": "ipython",
    "version": 2
   },
   "file_extension": ".py",
   "mimetype": "text/x-python",
   "name": "python",
   "nbconvert_exporter": "python",
   "pygments_lexer": "ipython2",
   "version": "2.7.11"
  }
 },
 "nbformat": 4,
 "nbformat_minor": 0
}
